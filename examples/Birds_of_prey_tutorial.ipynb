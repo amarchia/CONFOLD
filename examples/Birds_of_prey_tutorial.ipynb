{
 "cells": [
  {
   "cell_type": "markdown",
   "id": "52190a54-c68d-49be-aca4-991acab64488",
   "metadata": {},
   "source": [
    "# Example: Identifying Birds of Prey with CON-FOLD\n",
    "\n",
    "This tutorial demonstrates how to use CON-FOLD, an extension of the FOLD-RM algorithm that incorporates confidence values and allows for the inclusion of expert domain knowledge.\n",
    "\n",
    "We will use a simple (fictional) dataset of 20 birds to classify whether a bird is a predator based on two features:\n",
    "- `wingspan` (a numerical feature)\n",
    "- `beak` type (a categorical feature)"
   ]
  },
  {
   "cell_type": "code",
   "execution_count": 1,
   "id": "76d0184d-72f2-4ab2-a094-5cb35820d8e2",
   "metadata": {},
   "outputs": [],
   "source": [
    "# --- Imports ---\n",
    "# Make sure your project's root directory is in the Python path.\n",
    "# In many setups, Jupyter does this automatically. If not, you might need:\n",
    "# import sys\n",
    "# sys.path.append('..') \n",
    "import sys\n",
    "sys.path.append(r'...')\n",
    "\n",
    "import numpy as np\n",
    "from foldrm import Classifier\n",
    "from datasets import birds # Our new function\n",
    "from utils import split_data # Or your stratified version if you prefer"
   ]
  },
  {
   "cell_type": "markdown",
   "id": "f8f1635a-6f6d-4786-af0e-97d734d9880c",
   "metadata": {},
   "source": [
    "## Step 1: Load and Prepare the Data\n",
    "\n",
    "First, we load our custom birds dataset using the function we added to `datasets.py`. We will then split the data into a training set (the first 15 birds) and a testing set (the last 5 birds). This fixed split ensures our results are reproducible every time."
   ]
  },
  {
   "cell_type": "code",
   "execution_count": 2,
   "id": "4bc81afe-899f-4c6e-824e-4d5b54e4485d",
   "metadata": {},
   "outputs": [
    {
     "name": "stdout",
     "output_type": "stream",
     "text": [
      "\n",
      "% birds dataset loaded (20, 3)\n",
      "Training set size: 15 birds\n",
      "Testing set size: 5 birds\n"
     ]
    }
   ],
   "source": [
    "# Load the data\n",
    "model_template, data = birds(data_path='../data/birds/birds.csv')\n",
    "\n",
    "# Split into training and testing sets\n",
    "# We use a simple slice for reproducibility\n",
    "data_train = data[:15]\n",
    "data_test = data[15:]\n",
    "\n",
    "print(f\"Training set size: {len(data_train)} birds\")\n",
    "print(f\"Testing set size: {len(data_test)} birds\")"
   ]
  },
  {
   "cell_type": "markdown",
   "id": "1c0c0406-119d-4782-be94-79a85a30338b",
   "metadata": {},
   "source": [
    "## Step 2: The Baseline Model - Learning From Scratch\n",
    "\n",
    "Let's see what the algorithm can learn on its own without any help. We will create a standard `Classifier`, train it on our 15 birds, and then see what rules it generates."
   ]
  },
  {
   "cell_type": "code",
   "execution_count": 3,
   "id": "5be51a1b-35d2-434b-b8a5-1f48c6c25fe2",
   "metadata": {},
   "outputs": [
    {
     "name": "stdout",
     "output_type": "stream",
     "text": [
      "--- Rules Learned by the Baseline Model ---\n",
      "predator(X,'yes') :- not beak(X,'curved'), not ab1(X). [confidence: 0.73529]\n",
      "predator(X,'no') :- wingspan(X,N0), N0>10.0. [confidence: 0.7]\n",
      "predator(X,'no') :- wingspan(X,N0), N0<=10.0. [confidence: 0.55]\n",
      "ab1(X) :- wingspan(X,N0), N0<=20.0.\n"
     ]
    }
   ],
   "source": [
    "# Instantiate a new classifier for our baseline experiment\n",
    "baseline_model = Classifier(attrs=model_template.attrs, numeric=model_template.numeric, label=model_template.label)\n",
    "\n",
    "# Fit the model on the training data\n",
    "baseline_model.fit(data_train, ratio=0.5)\n",
    "\n",
    "# Print the rules the model learned\n",
    "print(\"--- Rules Learned by the Baseline Model ---\")\n",
    "baseline_model.print_asp(simple=True)"
   ]
  },
  {
   "cell_type": "markdown",
   "id": "d9c0d1c2-54de-4dc1-97e7-709f8087aedd",
   "metadata": {},
   "source": [
    "### Evaluate the Baseline Model\n",
    "\n",
    "Now, we'll use our 5-bird test set to see how accurate the baseline model is."
   ]
  },
  {
   "cell_type": "code",
   "execution_count": 4,
   "id": "25fb7343-a6e5-408c-bbed-bd178b498c3d",
   "metadata": {},
   "outputs": [
    {
     "name": "stdout",
     "output_type": "stream",
     "text": [
      "--- Baseline Model Evaluation ---\n",
      "True Labels:    ['yes', 'no', 'no', 'yes', 'no']\n",
      "Predicted Labels: ['yes', 'no', 'yes', 'yes', 'no']\n",
      "Accuracy: 80.00%\n"
     ]
    }
   ],
   "source": [
    "# Prepare the test data (features and true labels)\n",
    "X_test = [d[:-1] for d in data_test]\n",
    "Y_test = [d[-1] for d in data_test]\n",
    "\n",
    "# Get predictions (these will be tuples of (label, confidence))\n",
    "predictions_tuples = baseline_model.predict(X_test)\n",
    "predicted_labels = [p[0] for p in predictions_tuples]\n",
    "\n",
    "# Calculate accuracy\n",
    "correct_predictions = 0\n",
    "for i in range(len(Y_test)):\n",
    "    if predicted_labels[i] == Y_test[i]:\n",
    "        correct_predictions += 1\n",
    "\n",
    "accuracy = correct_predictions / len(Y_test)\n",
    "\n",
    "print(\"--- Baseline Model Evaluation ---\")\n",
    "print(f\"True Labels:    {Y_test}\")\n",
    "print(f\"Predicted Labels: {predicted_labels}\")\n",
    "print(f\"Accuracy: {accuracy * 100:.2f}%\")"
   ]
  },
  {
   "cell_type": "markdown",
   "id": "29b572b0-e7e5-4b23-babb-1ba5c5715a4b",
   "metadata": {},
   "source": [
    "## Step 3: Injecting \"Expert\" Domain Knowledge\n",
    "\n",
    "The baseline model was good, but not perfect. It struggled to correctly identify small birds with sharp beaks. This is a perfect opportunity to improve performance by providing some \"expert\" knowledge from an ornithologist. This is the core feature of CON-FOLD.\n",
    "\n",
    "Instead of defining all the rules manually, we will only provide the most nuanced and difficult piece of information—the rule that the baseline model got wrong.\n",
    "\n",
    "Our expert tells us:\n",
    "- **\"A bird with a sharp beak is a predator, UNLESS it is very small (with a wingspan of 25cm or less).\"**\n",
    "\n",
    "By providing only this complex exception rule, we give the model a powerful head start. We can then let CON-FOLD learn the more straightforward rules (like what to do about birds with curved beaks) from the data on its own. Let's translate this one key insight into CON-FOLD's rule syntax."
   ]
  },
  {
   "cell_type": "code",
   "execution_count": 5,
   "id": "7dec9bd3-6093-4bb3-9084-044af557cc23",
   "metadata": {},
   "outputs": [
    {
     "name": "stdout",
     "output_type": "stream",
     "text": [
      "--- Manual Rules Added to the Model (Before Training) ---\n",
      "((-1, '==', 'yes'), [(1, '==', 'Sharp')], [(-1, [(0, '<=', 25)], [], 0)], 0.95)\n"
     ]
    }
   ],
   "source": [
    "# Instantiate a new classifier for our expert-guided model\n",
    "expert_model = Classifier(attrs=model_template.attrs, numeric=model_template.numeric, label=model_template.label)\n",
    "\n",
    "# Define our expert rules as strings\n",
    "# Note: the symbols '==' and '<=' must also be in single quotes for the parser.\n",
    "rule1 = \"with confidence 0.95 class = 'yes' if 'beak' '==' 'Sharp' except if 'wingspan' '<=' '25'\"\n",
    "#Note additional rules could be added like this:\n",
    "#rule2 = \"with confidence 0.99 class = 'no' if 'beak' '==' 'Curved'\"\n",
    "\n",
    "# Add the manual rules to the model\n",
    "expert_model.add_manual_rule(rule1, model_template.attrs, model_template.numeric, ['yes', 'no'], instructions=False)\n",
    "# Note: here is code to add an additional rule:\n",
    "#expert_model.add_manual_rule(rule2, model_template.attrs, model_template.numeric, ['yes', 'no'], instructions=False)\n",
    "\n",
    "print(\"--- Manual Rules Added to the Model (Before Training) ---\")\n",
    "# The internal representation is a bit complex, but we can see our rules are in there.\n",
    "for rule in expert_model.rules:\n",
    "    print(rule)"
   ]
  },
  {
   "cell_type": "markdown",
   "id": "5701ec8f-2715-4ed2-9789-c250df93f144",
   "metadata": {},
   "source": [
    "## Step 4: Train the Expert-Guided Model\n",
    "\n",
    "Now that our expert knowledge is locked in, we will train the model on the exact same training data. \n",
    "\n",
    "CON-FOLD is smart enough to use these rules as a starting point. It will now only try to learn new rules for any training examples that our manual rules didn't already cover. This makes its job much easier and less prone to errors."
   ]
  },
  {
   "cell_type": "code",
   "execution_count": 6,
   "id": "3471ff9e-9694-400c-a7b7-2d93b4e954b2",
   "metadata": {},
   "outputs": [
    {
     "name": "stdout",
     "output_type": "stream",
     "text": [
      "--- Final Ruleset from the Expert Model ---\n",
      "predator(X,'yes') :- beak(X,'sharp'), not ab1(X). [confidence: 0.95]\n",
      "predator(X,'no') :- wingspan(X,N0), N0>10.0. [confidence: 0.7]\n",
      "predator(X,'no') :- wingspan(X,N0), N0<=10.0. [confidence: 0.55]\n",
      "ab1(X) :- wingspan(X,N0), N0<=25.\n"
     ]
    }
   ],
   "source": [
    "# Now, fit the model on the training data.\n",
    "# The algorithm will work around the rules we provided.\n",
    "expert_model.fit(data_train, ratio=0.75)\n",
    "\n",
    "# Print the final, combined rule set\n",
    "print(\"--- Final Ruleset from the Expert Model ---\")\n",
    "expert_model.print_asp(simple=True)"
   ]
  },
  {
   "cell_type": "markdown",
   "id": "c2bf717a-f5bc-4362-89a4-a81d5f9736e4",
   "metadata": {},
   "source": [
    "## Step 5: Compare the Results\n",
    "\n",
    "Let's evaluate our new expert-guided model on the same 5-bird test set. Did our domain knowledge help improve the accuracy?"
   ]
  },
  {
   "cell_type": "code",
   "execution_count": 7,
   "id": "ba288e24-e295-4e47-9993-ade4224db915",
   "metadata": {},
   "outputs": [
    {
     "name": "stdout",
     "output_type": "stream",
     "text": [
      "--- Baseline Model Evaluation ---\n",
      "True Labels:      ['yes', 'no', 'no', 'yes', 'no']\n",
      "Predicted Labels: ['yes', 'no', 'yes', 'yes', 'no']\n",
      "Accuracy: 80.00%\n",
      "\n",
      "--- Expert Model Evaluation ---\n",
      "True Labels:      ['yes', 'no', 'no', 'yes', 'no']\n",
      "Predicted Labels: ['yes', 'no', 'no', 'yes', 'no']\n",
      "Accuracy: 100.00%\n"
     ]
    }
   ],
   "source": [
    "# Get predictions from our new model\n",
    "expert_predictions_tuples = expert_model.predict(X_test)\n",
    "expert_predicted_labels = [p[0] for p in expert_predictions_tuples]\n",
    "\n",
    "# Calculate accuracy\n",
    "expert_correct_predictions = 0\n",
    "for i in range(len(Y_test)):\n",
    "    if expert_predicted_labels[i] == Y_test[i]:\n",
    "        expert_correct_predictions += 1\n",
    "\n",
    "expert_accuracy = expert_correct_predictions / len(Y_test)\n",
    "\n",
    "print(\"--- Baseline Model Evaluation ---\")\n",
    "print(f\"True Labels:      {Y_test}\")\n",
    "print(f\"Predicted Labels: {predicted_labels}\")\n",
    "print(f\"Accuracy: {accuracy * 100:.2f}%\\n\")\n",
    "\n",
    "\n",
    "print(\"--- Expert Model Evaluation ---\")\n",
    "print(f\"True Labels:      {Y_test}\")\n",
    "print(f\"Predicted Labels: {expert_predicted_labels}\")\n",
    "print(f\"Accuracy: {expert_accuracy * 100:.2f}%\")"
   ]
  },
  {
   "cell_type": "markdown",
   "id": "b2447600-f77d-41e1-b0e0-bb8628f14dd7",
   "metadata": {},
   "source": [
    "## Step 6: Adding Expert Rules and Learning Their Confidence\n",
    "\n",
    "A common scenario is that an expert knows a rule is generally true, but doesn't know the exact statistics or confidence.\n",
    "\n",
    "CON-FOLD is designed for this. We can provide rules without a confidence value, and the algorithm will **calculate the confidence for us** based on the training data.\n",
    "\n",
    "Let's provide two rules our ornithologist is fairly certain about:\n",
    "1.  **\"Birds with a curved beak are not predators.\"**\n",
    "2.  **\"A bird with a sharp beak is a predator, UNLESS it is very small (wingspan <= 25cm).\"**"
   ]
  },
  {
   "cell_type": "code",
   "execution_count": 8,
   "id": "72f49ca7-0223-43a2-9cf6-92590314d392",
   "metadata": {},
   "outputs": [
    {
     "name": "stdout",
     "output_type": "stream",
     "text": [
      "--- Manual Rules Added (Before Training) ---\n",
      "Notice the default confidence value of 0.5 assigned to each rule.\n",
      "((-1, '==', 'no'), [(1, '==', 'Curved')], [], 0.5)\n",
      "((-1, '==', 'yes'), [(1, '==', 'Sharp')], [(-1, [(0, '<=', 25)], [], 0)], 0.5)\n"
     ]
    }
   ],
   "source": [
    "# Instantiate a new classifier\n",
    "learned_confidence_model = Classifier(attrs=model_template.attrs, numeric=model_template.numeric, label=model_template.label)\n",
    "\n",
    "# Define our expert rules as strings, but WITHOUT the 'with confidence' part.\n",
    "rule1_no_confidence = \"class = 'no' if 'beak' '==' 'Curved'\"\n",
    "rule2_no_confidence = \"class = 'yes' if 'beak' '==' 'Sharp' except if 'wingspan' '<=' '25'\"\n",
    "\n",
    "# Add the manual rules to the model\n",
    "learned_confidence_model.add_manual_rule(rule1_no_confidence, model_template.attrs, model_template.numeric, ['yes', 'no'], instructions=False)\n",
    "learned_confidence_model.add_manual_rule(rule2_no_confidence, model_template.attrs, model_template.numeric, ['yes', 'no'], instructions=False)\n",
    "\n",
    "print(\"--- Manual Rules Added (Before Training) ---\")\n",
    "print(\"Notice the default confidence value of 0.5 assigned to each rule.\")\n",
    "for rule in learned_confidence_model.rules:\n",
    "    print(rule)"
   ]
  },
  {
   "cell_type": "markdown",
   "id": "d5627cf0-d893-4ea1-b542-729090a405f9",
   "metadata": {},
   "source": [
    "### Learning the Confidence from Data\n",
    "\n",
    "As we saw above, the rules were added with a placeholder confidence of `0.5`. Now, when we call `.fit()`, CON-FOLD will evaluate these rules against the training data and replace the placeholder with a properly calculated confidence score."
   ]
  },
  {
   "cell_type": "code",
   "execution_count": 9,
   "id": "383e73af-cb32-46bb-a7b7-747af1db221e",
   "metadata": {},
   "outputs": [
    {
     "name": "stdout",
     "output_type": "stream",
     "text": [
      "--- Final Ruleset with Learned Confidence ---\n",
      "The confidence values have now been updated based on the training data!\n",
      "predator(X,'no') :- beak(X,'curved'). [confidence: 0.65385]\n",
      "predator(X,'yes') :- beak(X,'sharp'), not ab1(X). [confidence: 0.73529]\n",
      "predator(X,'no') :- wingspan(X,N0), N0>10.0. [confidence: 0.59091]\n",
      "predator(X,'no') :- wingspan(X,N0), N0<=10.0. [confidence: 0.55]\n",
      "ab1(X) :- wingspan(X,N0), N0<=25.\n"
     ]
    }
   ],
   "source": [
    "# Now, fit the model on the training data.\n",
    "# The algorithm will calculate the confidence of our provided rules and then learn any additional rules needed.\n",
    "learned_confidence_model.fit(data_train, ratio=0.5)\n",
    "\n",
    "# Print the final, combined rule set\n",
    "print(\"--- Final Ruleset with Learned Confidence ---\")\n",
    "print(\"The confidence values have now been updated based on the training data!\")\n",
    "learned_confidence_model.print_asp(simple=True)\n",
    "#Note that confidence values will be relatively low due to the small size of the training data. "
   ]
  },
  {
   "cell_type": "code",
   "execution_count": 10,
   "id": "29fbc341-5b09-4bb2-8e78-07caa9ed3336",
   "metadata": {},
   "outputs": [
    {
     "name": "stdout",
     "output_type": "stream",
     "text": [
      "--- Learned Confidence Model Evaluation ---\n",
      "True Labels:      ['yes', 'no', 'no', 'yes', 'no']\n",
      "Predicted Labels: ['yes', 'no', 'no', 'yes', 'no']\n",
      "Accuracy: 100.00%\n"
     ]
    }
   ],
   "source": [
    "# Get predictions from our new model\n",
    "learned_conf_predictions = learned_confidence_model.predict(X_test)\n",
    "learned_conf_labels = [p[0] for p in learned_conf_predictions]\n",
    "\n",
    "# Calculate accuracy\n",
    "learned_conf_accuracy = sum(1 for i in range(len(Y_test)) if learned_conf_labels[i] == Y_test[i]) / len(Y_test)\n",
    "\n",
    "print(\"--- Learned Confidence Model Evaluation ---\")\n",
    "print(f\"True Labels:      {Y_test}\")\n",
    "print(f\"Predicted Labels: {learned_conf_labels}\")\n",
    "print(f\"Accuracy: {learned_conf_accuracy * 100:.2f}%\")"
   ]
  },
  {
   "cell_type": "markdown",
   "id": "e822b48e-a6b2-4458-a9cc-48812a7a4423",
   "metadata": {},
   "source": [
    "## Step 7: Pruning for a Simpler, More Robust Model\n",
    "\n",
    "Our expert-guided model is 100% accurate on the test set, which is fantastic. However, in larger, noisier datasets, the algorithm might still learn some overly specific rules that have low confidence.\n",
    "\n",
    "CON-FOLD provides two methods to handle this:\n",
    "1.  **Simple Confidence Pruning:** After training, we can remove any rule that doesn't meet a minimum confidence threshold.\n",
    "2.  **Confidence-Driven Learning:** We can use a more advanced training method (`confidence_fit`) that only adds exceptions to rules if they provide a significant boost in confidence.\n",
    "\n",
    "Let's explore both."
   ]
  },
  {
   "cell_type": "markdown",
   "id": "c880ac16-e54b-4788-b5e2-9dc96dec2327",
   "metadata": {},
   "source": [
    "### Method 1: Simple Post-Hoc Confidence Pruning\n",
    "\n",
    "This is the most straightforward approach. We'll take our trained `expert_model` and apply a pruning function to remove any rules with a confidence below a certain threshold, say `0.90`."
   ]
  },
  {
   "cell_type": "code",
   "execution_count": 11,
   "id": "cc7861a2-c260-4142-ae77-fcfb5d81eff8",
   "metadata": {},
   "outputs": [
    {
     "name": "stdout",
     "output_type": "stream",
     "text": [
      "--- Rules Before Pruning ---\n",
      "predator(X,'yes') :- beak(X,'sharp'), not ab1(X). [confidence: 0.95]\n",
      "predator(X,'no') :- wingspan(X,N0), N0>10.0. [confidence: 0.7]\n",
      "predator(X,'no') :- wingspan(X,N0), N0<=10.0. [confidence: 0.55]\n",
      "ab1(X) :- wingspan(X,N0), N0<=25.\n",
      "\n",
      "--- Rules After Pruning (Confidence >= 0.70) ---\n",
      "predator(X,'yes') :- beak(X,'sharp'), not ab1(X). [confidence: 0.95]\n",
      "predator(X,'no') :- wingspan(X,N0), N0>10.0. [confidence: 0.7]\n",
      "ab1(X) :- wingspan(X,N0), N0<=25.\n"
     ]
    }
   ],
   "source": [
    "# First, let's re-print the rules from our expert model for comparison\n",
    "print(\"--- Rules Before Pruning ---\")\n",
    "expert_model.print_asp(simple=True)\n",
    "\n",
    "# Import the prune_rules function from the core algorithm file\n",
    "from algo import prune_rules\n",
    "\n",
    "# Apply the pruning function\n",
    "# This will create a new list containing only the rules that meet the confidence threshold.\n",
    "pruned_rules = prune_rules(expert_model.rules, confidence=0.70)\n",
    "\n",
    "# We can create a new model instance to hold these pruned rules\n",
    "simple_pruned_model = Classifier(attrs=model_template.attrs, numeric=model_template.numeric, label=model_template.label)\n",
    "simple_pruned_model.rules = pruned_rules\n",
    "\n",
    "print(\"\\n--- Rules After Pruning (Confidence >= 0.70) ---\")\n",
    "simple_pruned_model.print_asp(simple=True)"
   ]
  },
  {
   "cell_type": "markdown",
   "id": "0025503d-2650-430e-9a29-c3a6b8c8245b",
   "metadata": {},
   "source": [
    "### Method 2: Advanced Confidence-Driven Learning\n",
    "\n",
    "A more powerful method is to integrate the idea of confidence directly into the learning process. The `confidence_fit` method does exactly this.\n",
    "\n",
    "It will **both calculate the confidence** of any manually provided rules (if not specified) and **prevent the model from adding insignificant exceptions** during its own learning process.\n",
    "\n",
    "Let's train a new model using this method on our two expert rules (for which we did not provide confidence). We will set a very high `improvement_threshold` of `0.15` (or 15%). This means the algorithm will be very strict and will only add a new exception to a rule if it improves the confidence by at least 15%, effectively pruning weak exceptions before they are even added."
   ]
  },
  {
   "cell_type": "code",
   "execution_count": 12,
   "id": "60d10881-9565-4cf5-b59d-7bf1baf8a6a8",
   "metadata": {},
   "outputs": [
    {
     "name": "stdout",
     "output_type": "stream",
     "text": [
      "--- Training with confidence_fit(improvement_threshold=0.15) ---\n",
      "\n",
      "--- Rules Learned via Confidence-Driven Learning ---\n",
      "Note how the model is simpler and did not learn any exceptions to rules or `abnormalities', as they did not meet the high confidence improvement threshold.\n",
      "predator(X,'yes') :- not beak(X,'curved'). [confidence: 0.625]\n",
      "predator(X,'no') :- wingspan(X,N0), N0>30.0. [confidence: 0.625]\n",
      "predator(X,'no') :- wingspan(X,N0), N0<=30.0. [confidence: 0.55]\n"
     ]
    }
   ],
   "source": [
    "# Instantiate a new model for this experiment\n",
    "advanced_pruning_model = Classifier(attrs=model_template.attrs, numeric=model_template.numeric, label=model_template.label)\n",
    "\n",
    "# Add our same expert rules WITHOUT confidence\n",
    "#rule1_no_confidence = \"class = 'no' if 'beak' '==' 'Curved'\"\n",
    "#rule2_no_confidence = \"class = 'yes' if 'beak' '==' 'Sharp' except if 'wingspan' '<=' '25'\"\n",
    "#advanced_pruning_model.add_manual_rule(rule1_no_confidence, model_template.attrs, model_template.numeric, ['yes', 'no'], instructions=False)\n",
    "#advanced_pruning_model.add_manual_rule(rule2_no_confidence, model_template.attrs, model_template.numeric, ['yes', 'no'], instructions=False)\n",
    "\n",
    "# Now, train using confidence_fit with a high 15% improvement threshold\n",
    "print(\"--- Training with confidence_fit(improvement_threshold=0.15) ---\")\n",
    "advanced_pruning_model.confidence_fit(data_train, improvement_threshold=0.15)\n",
    "\n",
    "print(\"\\n--- Rules Learned via Confidence-Driven Learning ---\")\n",
    "print(\"Note how the model is simpler and did not learn any exceptions to rules or `abnormalities', as they did not meet the high confidence improvement threshold.\")\n",
    "advanced_pruning_model.print_asp(simple=True)"
   ]
  },
  {
   "cell_type": "code",
   "execution_count": null,
   "id": "b6c9cfd1-15f8-4112-8acd-dd4d0603edcc",
   "metadata": {},
   "outputs": [],
   "source": []
  },
  {
   "cell_type": "code",
   "execution_count": null,
   "id": "e896329a-88c2-4f37-8e39-b03927fee8b7",
   "metadata": {},
   "outputs": [],
   "source": []
  },
  {
   "cell_type": "code",
   "execution_count": null,
   "id": "5bcff24d-ea7c-464d-b614-c5a29c71c962",
   "metadata": {},
   "outputs": [],
   "source": []
  },
  {
   "cell_type": "code",
   "execution_count": null,
   "id": "707acc55-2c43-4748-9fb1-fedc935fba3d",
   "metadata": {},
   "outputs": [],
   "source": []
  }
 ],
 "metadata": {
  "kernelspec": {
   "display_name": "Python 3 (ipykernel)",
   "language": "python",
   "name": "python3"
  },
  "language_info": {
   "codemirror_mode": {
    "name": "ipython",
    "version": 3
   },
   "file_extension": ".py",
   "mimetype": "text/x-python",
   "name": "python",
   "nbconvert_exporter": "python",
   "pygments_lexer": "ipython3",
   "version": "3.11.9"
  }
 },
 "nbformat": 4,
 "nbformat_minor": 5
}
